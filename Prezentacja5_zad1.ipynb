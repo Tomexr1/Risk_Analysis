{
 "cells": [
  {
   "cell_type": "markdown",
   "id": "8a62946c",
   "metadata": {},
   "source": [
    "## Zad. 1"
   ]
  },
  {
   "cell_type": "code",
   "execution_count": 1,
   "id": "f0752670",
   "metadata": {},
   "outputs": [],
   "source": [
    "import pandas as pd\n",
    "import numpy as np\n",
    "from scipy.stats import norm\n",
    "from scipy.optimize import fsolve"
   ]
  },
  {
   "cell_type": "code",
   "execution_count": 2,
   "id": "baf2b79e",
   "metadata": {},
   "outputs": [],
   "source": [
    "# wczytanie danych\n",
    "san = pd.read_csv('dane/san.csv', index_col=0, skiprows=2)\n",
    "san.index = pd.to_datetime(san.index, format='%Y-%m-%d')\n",
    "san = san.iloc[:, 0]\n",
    "\n",
    "erste_group = pd.read_csv('dane/EBS_VI.csv', index_col=0, skiprows=2)\n",
    "erste_group.index = pd.to_datetime(erste_group.index, format='%Y-%m-%d')\n",
    "erste_group = erste_group.iloc[:, 0].to_frame(name='Price')"
   ]
  },
  {
   "cell_type": "code",
   "execution_count": 3,
   "id": "b2f49890",
   "metadata": {},
   "outputs": [
    {
     "data": {
      "text/plain": [
       "6.85"
      ]
     },
     "execution_count": 3,
     "metadata": {},
     "output_type": "execute_result"
    }
   ],
   "source": [
    "# ostatnia znana cena akcji\n",
    "round(san.iloc[-1], 3)"
   ]
  },
  {
   "cell_type": "code",
   "execution_count": 4,
   "id": "e8370abc",
   "metadata": {},
   "outputs": [],
   "source": [
    "# premia do opcji sprzedaży\n",
    "S = 6.85\n",
    "K = S\n",
    "T = 0.25\n",
    "sigma = san.pct_change().dropna().std() * np.sqrt(252)\n",
    "R = 0.03\n",
    "n = 10**4  # liczba akcji\n",
    "fixed_forward_price = 6.90"
   ]
  },
  {
   "cell_type": "code",
   "execution_count": 5,
   "id": "0bdbe015",
   "metadata": {},
   "outputs": [
    {
     "data": {
      "text/plain": [
       "0.52"
      ]
     },
     "execution_count": 5,
     "metadata": {},
     "output_type": "execute_result"
    }
   ],
   "source": [
    "# cena Blacka-Scholesa na opcję sprzedaży\n",
    "def black_scholes(s=S, k=K, t=T, sig=sigma, r=R):\n",
    "    d1 = (-np.log(s/k) - (r - sig**2/2) * t) / (sig*np.sqrt(t))\n",
    "    d2 = (-np.log(s/k) - (r + sig**2/2) * t) / (sig*np.sqrt(t))\n",
    "    return k * np.exp(-r * t) * norm.cdf(d1) - s * norm.cdf(d2)\n",
    "\n",
    "\n",
    "round(black_scholes(), 2)"
   ]
  },
  {
   "cell_type": "code",
   "execution_count": 6,
   "id": "29031d2a",
   "metadata": {},
   "outputs": [
    {
     "data": {
      "text/plain": [
       "5200.0"
      ]
     },
     "execution_count": 6,
     "metadata": {},
     "output_type": "execute_result"
    }
   ],
   "source": [
    "premium = n * round(black_scholes(), 2)\n",
    "premium"
   ]
  },
  {
   "cell_type": "markdown",
   "id": "44185be8",
   "metadata": {},
   "source": [
    "Santander Polska posiada 10 000 akcji Banco Santander S.A. (wartość: 68 500 USD). W celu zabezpieczenia przed ryzykiem spadku cen akcji, możliwe są trzy strategie:\n",
    "1. Podjęcie ryzyka.\n",
    "2. Zakup kontraktu forward na sprzedaż akcji z terminem wykonania 3 miesiące. Cena wykonania kontaktu wynosi 6.90 USD/akcja.\n",
    "3. Zakup opcji sprzedaży na instrument podstawowy z ceną wykonania 6.85 USD/akcja, terminem wykonania za 3 miesiące i ceną wykonania (premią) 0.52 USD/akcja."
   ]
  },
  {
   "cell_type": "code",
   "execution_count": 7,
   "id": "c09a2b3e",
   "metadata": {},
   "outputs": [],
   "source": [
    "def option3(f_vals, strike, premium):\n",
    "    res = []\n",
    "    executed = []\n",
    "    for val in f_vals:\n",
    "        payoff = max(strike - val, 0)\n",
    "        net = (val + payoff) * n - premium \n",
    "        res.append(net)\n",
    "        executed.append(\"T\" if payoff > 0 else \"F\")\n",
    "    return res, executed"
   ]
  },
  {
   "cell_type": "code",
   "execution_count": 8,
   "id": "f14c699b",
   "metadata": {
    "scrolled": false
   },
   "outputs": [
    {
     "data": {
      "text/html": [
       "<div>\n",
       "<style scoped>\n",
       "    .dataframe tbody tr th:only-of-type {\n",
       "        vertical-align: middle;\n",
       "    }\n",
       "\n",
       "    .dataframe tbody tr th {\n",
       "        vertical-align: top;\n",
       "    }\n",
       "\n",
       "    .dataframe thead th {\n",
       "        text-align: right;\n",
       "    }\n",
       "</style>\n",
       "<table border=\"1\" class=\"dataframe\">\n",
       "  <thead>\n",
       "    <tr style=\"text-align: right;\">\n",
       "      <th></th>\n",
       "      <th>Wartość kontraktu</th>\n",
       "      <th>Efekt strategii 1 – podjęcie ryzyka</th>\n",
       "      <th>Efekt strategii 2 - sprzedaż kontraktu forward</th>\n",
       "      <th>Efekt strategii 3 - zakup opcji sprzedaży</th>\n",
       "      <th>Wykonanie opcji sprzedaży</th>\n",
       "    </tr>\n",
       "  </thead>\n",
       "  <tbody>\n",
       "    <tr>\n",
       "      <th>6.60</th>\n",
       "      <td>66000.0</td>\n",
       "      <td>66000.0</td>\n",
       "      <td>69000.0</td>\n",
       "      <td>63300.0</td>\n",
       "      <td>T</td>\n",
       "    </tr>\n",
       "    <tr>\n",
       "      <th>6.70</th>\n",
       "      <td>67000.0</td>\n",
       "      <td>67000.0</td>\n",
       "      <td>69000.0</td>\n",
       "      <td>63300.0</td>\n",
       "      <td>T</td>\n",
       "    </tr>\n",
       "    <tr>\n",
       "      <th>6.80</th>\n",
       "      <td>68000.0</td>\n",
       "      <td>68000.0</td>\n",
       "      <td>69000.0</td>\n",
       "      <td>63300.0</td>\n",
       "      <td>T</td>\n",
       "    </tr>\n",
       "    <tr>\n",
       "      <th>6.85</th>\n",
       "      <td>68500.0</td>\n",
       "      <td>68500.0</td>\n",
       "      <td>69000.0</td>\n",
       "      <td>63300.0</td>\n",
       "      <td>F</td>\n",
       "    </tr>\n",
       "    <tr>\n",
       "      <th>6.90</th>\n",
       "      <td>69000.0</td>\n",
       "      <td>69000.0</td>\n",
       "      <td>69000.0</td>\n",
       "      <td>63800.0</td>\n",
       "      <td>F</td>\n",
       "    </tr>\n",
       "    <tr>\n",
       "      <th>7.00</th>\n",
       "      <td>70000.0</td>\n",
       "      <td>70000.0</td>\n",
       "      <td>69000.0</td>\n",
       "      <td>64800.0</td>\n",
       "      <td>F</td>\n",
       "    </tr>\n",
       "    <tr>\n",
       "      <th>7.10</th>\n",
       "      <td>71000.0</td>\n",
       "      <td>71000.0</td>\n",
       "      <td>69000.0</td>\n",
       "      <td>65800.0</td>\n",
       "      <td>F</td>\n",
       "    </tr>\n",
       "  </tbody>\n",
       "</table>\n",
       "</div>"
      ],
      "text/plain": [
       "      Wartość kontraktu  Efekt strategii 1 – podjęcie ryzyka  \\\n",
       "6.60            66000.0                              66000.0   \n",
       "6.70            67000.0                              67000.0   \n",
       "6.80            68000.0                              68000.0   \n",
       "6.85            68500.0                              68500.0   \n",
       "6.90            69000.0                              69000.0   \n",
       "7.00            70000.0                              70000.0   \n",
       "7.10            71000.0                              71000.0   \n",
       "\n",
       "      Efekt strategii 2 - sprzedaż kontraktu forward  \\\n",
       "6.60                                         69000.0   \n",
       "6.70                                         69000.0   \n",
       "6.80                                         69000.0   \n",
       "6.85                                         69000.0   \n",
       "6.90                                         69000.0   \n",
       "7.00                                         69000.0   \n",
       "7.10                                         69000.0   \n",
       "\n",
       "      Efekt strategii 3 - zakup opcji sprzedaży Wykonanie opcji sprzedaży  \n",
       "6.60                                    63300.0                         T  \n",
       "6.70                                    63300.0                         T  \n",
       "6.80                                    63300.0                         T  \n",
       "6.85                                    63300.0                         F  \n",
       "6.90                                    63800.0                         F  \n",
       "7.00                                    64800.0                         F  \n",
       "7.10                                    65800.0                         F  "
      ]
     },
     "execution_count": 8,
     "metadata": {},
     "output_type": "execute_result"
    }
   ],
   "source": [
    "future_vals = np.array([6.6, 6.7, 6.8, 6.85, 6.9, 7., 7.1])\n",
    "result = pd.DataFrame({\n",
    "'Wartość kontraktu': future_vals * n,\n",
    "'Efekt strategii 1 – podjęcie ryzyka': future_vals * n,\n",
    "'Efekt strategii 2 - sprzedaż kontraktu forward': [6.9 * n] * 7,\n",
    "'Efekt strategii 3 - zakup opcji sprzedaży': option3(future_vals, K, premium)[0],\n",
    "'Wykonanie opcji sprzedaży': option3(future_vals, K, premium)[1]},\n",
    "    index = future_vals)\n",
    "result"
   ]
  },
  {
   "cell_type": "code",
   "execution_count": 9,
   "id": "1866351c",
   "metadata": {},
   "outputs": [],
   "source": [
    "sigma_daily = sigma / np.sqrt(252/60)\n",
    "\n",
    "np.random.seed(42)\n",
    "sim_log_returns = np.random.normal(loc=0, scale=sigma_daily, size=n)\n",
    "sim_prices = S * np.exp(sim_log_returns)\n",
    "\n",
    "# Strategia 1 \n",
    "strategy1_value = sim_prices * n\n",
    "losses1 = (S * n) - strategy1_value\n",
    "\n",
    "# Strategia 2\n",
    "strategy2_value = np.full(n, fixed_forward_price * n)\n",
    "losses2 = np.zeros(n)\n",
    "\n",
    "# Strategia 3\n",
    "payoffs = np.maximum(K - sim_prices, 0) \n",
    "strategy3_value = (sim_prices + payoffs) * n - premium\n",
    "losses3 = (S * n) - strategy3_value\n",
    "\n",
    "VaR_95_1 = np.quantile(losses1, 0.95)\n",
    "VaR_95_2 = np.quantile(losses2, 0.95)\n",
    "VaR_95_3 = np.quantile(losses3, 0.95)"
   ]
  },
  {
   "cell_type": "code",
   "execution_count": 10,
   "id": "18079080",
   "metadata": {
    "scrolled": true
   },
   "outputs": [
    {
     "data": {
      "text/html": [
       "<div>\n",
       "<style scoped>\n",
       "    .dataframe tbody tr th:only-of-type {\n",
       "        vertical-align: middle;\n",
       "    }\n",
       "\n",
       "    .dataframe tbody tr th {\n",
       "        vertical-align: top;\n",
       "    }\n",
       "\n",
       "    .dataframe thead th {\n",
       "        text-align: right;\n",
       "    }\n",
       "</style>\n",
       "<table border=\"1\" class=\"dataframe\">\n",
       "  <thead>\n",
       "    <tr style=\"text-align: right;\">\n",
       "      <th></th>\n",
       "      <th>3-miesięczny VaR(95%)</th>\n",
       "    </tr>\n",
       "  </thead>\n",
       "  <tbody>\n",
       "    <tr>\n",
       "      <th>0</th>\n",
       "      <td>18991.980911</td>\n",
       "    </tr>\n",
       "    <tr>\n",
       "      <th>1</th>\n",
       "      <td>0.000000</td>\n",
       "    </tr>\n",
       "    <tr>\n",
       "      <th>2</th>\n",
       "      <td>5200.000000</td>\n",
       "    </tr>\n",
       "  </tbody>\n",
       "</table>\n",
       "</div>"
      ],
      "text/plain": [
       "   3-miesięczny VaR(95%)\n",
       "0           18991.980911\n",
       "1               0.000000\n",
       "2            5200.000000"
      ]
     },
     "execution_count": 10,
     "metadata": {},
     "output_type": "execute_result"
    }
   ],
   "source": [
    "pd.DataFrame({'3-miesięczny VaR(95%)': [VaR_95_1 , VaR_95_2, VaR_95_3]})"
   ]
  },
  {
   "cell_type": "markdown",
   "id": "fc2b4570",
   "metadata": {},
   "source": [
    "# Zad 2\n",
    "$$\n",
    "\\text{Default Probability} = \\text{EDF} = \\Phi(-d_2)\n",
    "$$\n",
    "\n",
    "1-year default probability based on the assumption that asset values follow a lognormal distribution.\n",
    "\n",
    "### Banco Santander, S.A. (SAN)"
   ]
  },
  {
   "cell_type": "code",
   "execution_count": 11,
   "id": "b5478dfd",
   "metadata": {},
   "outputs": [
    {
     "name": "stdout",
     "output_type": "stream",
     "text": [
      "Market Equity Value: $101,859,498,581.89\n",
      "Equity Volatility: 0.4044\n",
      "Estimated Asset Value: $458,753,521,030.55\n",
      "Estimated Asset Volatility: 0.0904\n",
      "Distance to Default (DD): 2.7325\n",
      "\n",
      "Expected Default Frequency (EDF): 0.3143%\n"
     ]
    }
   ],
   "source": [
    "san = san.to_frame(name='Price')\n",
    "# --- Constants ---\n",
    "shares_outstanding = 14.87e9  # shares\n",
    "debt = 372.97e9               # total debt in USD\n",
    "r = 0.04407                   # risk-free rate U.S. 10 Year Treasury\n",
    "K = 0.031                     # dividend yield\n",
    "T = 1.0                       # time horizon (1 year)\n",
    "t = 0                         # t in [0, T]\n",
    "\n",
    "# --- Compute market equity value and volatility ---\n",
    "san['log_return'] = np.log(san['Price'] / san['Price'].shift(1))\n",
    "equity_vol = san['log_return'].std() * np.sqrt(252)  # annualized\n",
    "last_price = san['Price'].iloc[-1]\n",
    "equity_value = last_price * shares_outstanding  # market cap\n",
    "\n",
    "# --- KMV Model Equations ---\n",
    "def equations(p):\n",
    "    V, sigma_V = p\n",
    "    d1 = (np.log(V / debt) + ((r - K) + 0.5 * sigma_V ** 2) * (T - t)) / (sigma_V * np.sqrt(T - t))\n",
    "    d2 = d1 - sigma_V * np.sqrt(T - t)\n",
    "    eq1 = V * norm.cdf(d1) - debt * np.exp(-r * (T - t)) * norm.cdf(d2) - equity_value\n",
    "    eq2 = V * norm.cdf(d1) * sigma_V - equity_value * equity_vol\n",
    "    return (eq1, eq2)\n",
    "\n",
    "# --- Initial guesses ---\n",
    "V0 = equity_value + debt\n",
    "sigma_V0 = equity_vol\n",
    "V, sigma_V = fsolve(equations, (V0, sigma_V0))\n",
    "\n",
    "# --- Calculate Distance to Default ---\n",
    "d1 = (np.log(V / debt) + (r + 0.5 * sigma_V ** 2) * T) / (sigma_V * np.sqrt(T))\n",
    "d2 = d1 - sigma_V * np.sqrt(T)\n",
    "DD = d2\n",
    "EDF = norm.cdf(-DD)\n",
    "\n",
    "# --- Output ---\n",
    "print(f\"Market Equity Value: ${equity_value:,.2f}\")\n",
    "print(f\"Equity Volatility: {equity_vol:.4f}\")\n",
    "print(f\"Estimated Asset Value: ${V:,.2f}\")\n",
    "print(f\"Estimated Asset Volatility: {sigma_V:.4f}\")\n",
    "print(f\"Distance to Default (DD): {DD:.4f}\")\n",
    "print()\n",
    "print(f\"Expected Default Frequency (EDF): {EDF:.4%}\")"
   ]
  },
  {
   "cell_type": "markdown",
   "id": "6939e824",
   "metadata": {},
   "source": [
    "### Erste Group Bank AG (EBS.VI)"
   ]
  },
  {
   "cell_type": "code",
   "execution_count": 12,
   "id": "a131c4f3",
   "metadata": {
    "scrolled": true
   },
   "outputs": [
    {
     "name": "stdout",
     "output_type": "stream",
     "text": [
      "Market Equity Value: $24,105,148,087.58\n",
      "Equity Volatility: 0.3683\n",
      "Estimated Asset Value: $88,095,002,169.27\n",
      "Estimated Asset Volatility: 0.1010\n",
      "Distance to Default (DD): 3.1142\n",
      "\n",
      "Expected Default Frequency (EDF): 0.0922%\n"
     ]
    }
   ],
   "source": [
    "# --- Constants ---\n",
    "shares_outstanding = 388.13e6  # shares\n",
    "debt = 65.63e9                 # total debt in EUR\n",
    "r = 0.02535                    # risk-free rate EU10Y-EU:Eurobonds\n",
    "K = 0.0423                     # dividend yield\n",
    "T = 1.0                        # time horizon (1 year)\n",
    "t = 0                          # t in [0, T]\n",
    "\n",
    "# --- Compute market equity value and volatility ---\n",
    "erste_group['log_return'] = np.log(erste_group['Price'] / erste_group['Price'].shift(1))\n",
    "equity_vol = erste_group['log_return'].std() * np.sqrt(252)  # annualized\n",
    "last_price = erste_group['Price'].iloc[-1]\n",
    "equity_value = last_price * shares_outstanding  # market cap\n",
    "\n",
    "# --- KMV Model Equations ---\n",
    "def equations(p):\n",
    "    V, sigma_V = p\n",
    "    d1 = (np.log(V / debt) + ((r - K) + 0.5 * sigma_V ** 2) * (T - t)) / (sigma_V * np.sqrt(T - t))\n",
    "    d2 = d1 - sigma_V * np.sqrt(T - t)\n",
    "    eq1 = V * norm.cdf(d1) - debt * np.exp(-r * (T - t)) * norm.cdf(d2) - equity_value\n",
    "    eq2 = V * norm.cdf(d1) * sigma_V - equity_value * equity_vol\n",
    "    return (eq1, eq2)\n",
    "\n",
    "# --- Initial guesses ---\n",
    "V0 = equity_value + debt\n",
    "sigma_V0 = equity_vol\n",
    "V, sigma_V = fsolve(equations, (V0, sigma_V0))\n",
    "\n",
    "# --- Calculate Distance to Default ---\n",
    "d1 = (np.log(V / debt) + (r + 0.5 * sigma_V ** 2) * T) / (sigma_V * np.sqrt(T))\n",
    "d2 = d1 - sigma_V * np.sqrt(T)\n",
    "DD = d2\n",
    "EDF = norm.cdf(-DD)\n",
    "\n",
    "# --- Output ---\n",
    "print(f\"Market Equity Value: ${equity_value:,.2f}\")\n",
    "print(f\"Equity Volatility: {equity_vol:.4f}\")\n",
    "print(f\"Estimated Asset Value: ${V:,.2f}\")\n",
    "print(f\"Estimated Asset Volatility: {sigma_V:.4f}\")\n",
    "print(f\"Distance to Default (DD): {DD:.4f}\")\n",
    "print()\n",
    "print(f\"Expected Default Frequency (EDF): {EDF:.4%}\")"
   ]
  }
 ],
 "metadata": {
  "kernelspec": {
   "display_name": "Python 3 (ipykernel)",
   "language": "python",
   "name": "python3"
  },
  "language_info": {
   "codemirror_mode": {
    "name": "ipython",
    "version": 3
   },
   "file_extension": ".py",
   "mimetype": "text/x-python",
   "name": "python",
   "nbconvert_exporter": "python",
   "pygments_lexer": "ipython3",
   "version": "3.9.13"
  }
 },
 "nbformat": 4,
 "nbformat_minor": 5
}
