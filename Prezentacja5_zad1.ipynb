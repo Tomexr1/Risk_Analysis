{
 "cells": [
  {
   "cell_type": "markdown",
   "id": "8a62946c",
   "metadata": {},
   "source": [
    "## Zad. 1"
   ]
  },
  {
   "cell_type": "code",
   "execution_count": 1,
   "id": "f0752670",
   "metadata": {},
   "outputs": [],
   "source": [
    "import pandas as pd\n",
    "import numpy as np\n",
    "from scipy.stats import norm"
   ]
  },
  {
   "cell_type": "code",
   "execution_count": 2,
   "id": "baf2b79e",
   "metadata": {},
   "outputs": [],
   "source": [
    "# wczytanie danych\n",
    "san = pd.read_csv('dane/san.csv', index_col=0, skiprows=2)\n",
    "san.index = pd.to_datetime(san.index, format='%Y-%m-%d')\n",
    "san = san.iloc[:, 0]"
   ]
  },
  {
   "cell_type": "code",
   "execution_count": 3,
   "id": "1031a342",
   "metadata": {},
   "outputs": [],
   "source": [
    "# procentowy zanualizowany zwrot\n",
    "annual_return = (1 + san.pct_change().dropna()).prod() ** (252 / (len(san)-1))-1"
   ]
  },
  {
   "cell_type": "code",
   "execution_count": 4,
   "id": "b2f49890",
   "metadata": {},
   "outputs": [
    {
     "data": {
      "text/plain": [
       "6.85"
      ]
     },
     "execution_count": 4,
     "metadata": {},
     "output_type": "execute_result"
    }
   ],
   "source": [
    "# ostatnia znana cena akcji\n",
    "round(san.iloc[-1], 3)"
   ]
  },
  {
   "cell_type": "code",
   "execution_count": 5,
   "id": "e8370abc",
   "metadata": {},
   "outputs": [],
   "source": [
    "# premia do opcji sprzedaży\n",
    "S = 6.85\n",
    "K = S\n",
    "T = 0.25\n",
    "sigma = san.pct_change().dropna().std() * np.sqrt(252)\n",
    "R = 0.03\n",
    "n = 10**4  # liczba akcji"
   ]
  },
  {
   "cell_type": "code",
   "execution_count": 6,
   "id": "0bdbe015",
   "metadata": {},
   "outputs": [
    {
     "data": {
      "text/plain": [
       "0.52"
      ]
     },
     "execution_count": 6,
     "metadata": {},
     "output_type": "execute_result"
    }
   ],
   "source": [
    "# cena Blacka-Scholesa na opcję sprzedaży\n",
    "def black_scholes(s=S, k=K, t=T, sig=sigma, r=R):\n",
    "    d1 = (-np.log(s/k) - (r - sig**2/2) * t) / (sig*np.sqrt(t))\n",
    "    d2 = (-np.log(s/k) - (r + sig**2/2) * t) / (sig*np.sqrt(t))\n",
    "    return k * np.exp(-r * t) * norm.cdf(d1) - s * norm.cdf(d2)\n",
    "\n",
    "\n",
    "round(black_scholes(), 2)"
   ]
  },
  {
   "cell_type": "code",
   "execution_count": 7,
   "id": "29031d2a",
   "metadata": {},
   "outputs": [
    {
     "data": {
      "text/plain": [
       "5200.0"
      ]
     },
     "execution_count": 7,
     "metadata": {},
     "output_type": "execute_result"
    }
   ],
   "source": [
    "premium = n * round(black_scholes(), 2)\n",
    "premium"
   ]
  },
  {
   "cell_type": "markdown",
   "id": "44185be8",
   "metadata": {},
   "source": [
    "Santander Polska posiada 10 000 akcji Banco Santander S.A. (wartość: 68 500 EUR). W celu zabezpieczenia przed ryzykiem spadku cen akcji, możliwe są trzy strategie:\n",
    "1. Podjęcie ryzyka.\n",
    "2. Zakup kontraktu forward na sprzedaż akcji z terminem wykonania 3 miesiące. Cena wykonania kontaktu wynosi 6.90 EUR/akcja.\n",
    "3. Zakup opcji sprzedaży na instrument podstawowy z ceną wykonania 6.85 EUR/akcja, terminem wykonania za 3 miesiące i ceną wykonania (premią) 0.52 EUR/akcja."
   ]
  },
  {
   "cell_type": "code",
   "execution_count": 8,
   "id": "c09a2b3e",
   "metadata": {},
   "outputs": [],
   "source": [
    "def option3(f_vals, strike, premium):\n",
    "    res = []\n",
    "    executed = []\n",
    "    for val in f_vals:\n",
    "        payoff = max(strike - val, 0)\n",
    "        net = (val + payoff) * n - premium \n",
    "        res.append(net)\n",
    "        executed.append(\"T\" if payoff > 0 else \"F\")\n",
    "    return res, executed"
   ]
  },
  {
   "cell_type": "code",
   "execution_count": 9,
   "id": "f14c699b",
   "metadata": {},
   "outputs": [
    {
     "data": {
      "text/html": [
       "<div>\n",
       "<style scoped>\n",
       "    .dataframe tbody tr th:only-of-type {\n",
       "        vertical-align: middle;\n",
       "    }\n",
       "\n",
       "    .dataframe tbody tr th {\n",
       "        vertical-align: top;\n",
       "    }\n",
       "\n",
       "    .dataframe thead th {\n",
       "        text-align: right;\n",
       "    }\n",
       "</style>\n",
       "<table border=\"1\" class=\"dataframe\">\n",
       "  <thead>\n",
       "    <tr style=\"text-align: right;\">\n",
       "      <th></th>\n",
       "      <th>Wartość kontraktu</th>\n",
       "      <th>Efekt strategii 1 – podjęcie ryzyka</th>\n",
       "      <th>Efekt strategii 2 - sprzedaż kontraktu forward</th>\n",
       "      <th>Efekt strategii 3 - zakup opcji sprzedaży</th>\n",
       "      <th>Wykonanie opcji sprzedaży</th>\n",
       "    </tr>\n",
       "  </thead>\n",
       "  <tbody>\n",
       "    <tr>\n",
       "      <th>6.60</th>\n",
       "      <td>66000.0</td>\n",
       "      <td>66000.0</td>\n",
       "      <td>69000.0</td>\n",
       "      <td>63300.0</td>\n",
       "      <td>T</td>\n",
       "    </tr>\n",
       "    <tr>\n",
       "      <th>6.70</th>\n",
       "      <td>67000.0</td>\n",
       "      <td>67000.0</td>\n",
       "      <td>69000.0</td>\n",
       "      <td>63300.0</td>\n",
       "      <td>T</td>\n",
       "    </tr>\n",
       "    <tr>\n",
       "      <th>6.80</th>\n",
       "      <td>68000.0</td>\n",
       "      <td>68000.0</td>\n",
       "      <td>69000.0</td>\n",
       "      <td>63300.0</td>\n",
       "      <td>T</td>\n",
       "    </tr>\n",
       "    <tr>\n",
       "      <th>6.85</th>\n",
       "      <td>68500.0</td>\n",
       "      <td>68500.0</td>\n",
       "      <td>69000.0</td>\n",
       "      <td>63300.0</td>\n",
       "      <td>F</td>\n",
       "    </tr>\n",
       "    <tr>\n",
       "      <th>6.90</th>\n",
       "      <td>69000.0</td>\n",
       "      <td>69000.0</td>\n",
       "      <td>69000.0</td>\n",
       "      <td>63800.0</td>\n",
       "      <td>F</td>\n",
       "    </tr>\n",
       "    <tr>\n",
       "      <th>7.00</th>\n",
       "      <td>70000.0</td>\n",
       "      <td>70000.0</td>\n",
       "      <td>69000.0</td>\n",
       "      <td>64800.0</td>\n",
       "      <td>F</td>\n",
       "    </tr>\n",
       "    <tr>\n",
       "      <th>7.10</th>\n",
       "      <td>71000.0</td>\n",
       "      <td>71000.0</td>\n",
       "      <td>69000.0</td>\n",
       "      <td>65800.0</td>\n",
       "      <td>F</td>\n",
       "    </tr>\n",
       "  </tbody>\n",
       "</table>\n",
       "</div>"
      ],
      "text/plain": [
       "      Wartość kontraktu  Efekt strategii 1 – podjęcie ryzyka  \\\n",
       "6.60            66000.0                              66000.0   \n",
       "6.70            67000.0                              67000.0   \n",
       "6.80            68000.0                              68000.0   \n",
       "6.85            68500.0                              68500.0   \n",
       "6.90            69000.0                              69000.0   \n",
       "7.00            70000.0                              70000.0   \n",
       "7.10            71000.0                              71000.0   \n",
       "\n",
       "      Efekt strategii 2 - sprzedaż kontraktu forward  \\\n",
       "6.60                                         69000.0   \n",
       "6.70                                         69000.0   \n",
       "6.80                                         69000.0   \n",
       "6.85                                         69000.0   \n",
       "6.90                                         69000.0   \n",
       "7.00                                         69000.0   \n",
       "7.10                                         69000.0   \n",
       "\n",
       "      Efekt strategii 3 - zakup opcji sprzedaży Wykonanie opcji sprzedaży  \n",
       "6.60                                    63300.0                         T  \n",
       "6.70                                    63300.0                         T  \n",
       "6.80                                    63300.0                         T  \n",
       "6.85                                    63300.0                         F  \n",
       "6.90                                    63800.0                         F  \n",
       "7.00                                    64800.0                         F  \n",
       "7.10                                    65800.0                         F  "
      ]
     },
     "execution_count": 9,
     "metadata": {},
     "output_type": "execute_result"
    }
   ],
   "source": [
    "future_vals = np.array([6.6, 6.7, 6.8, 6.85, 6.9, 7., 7.1])\n",
    "result = pd.DataFrame({\n",
    "'Wartość kontraktu': future_vals * n,\n",
    "'Efekt strategii 1 – podjęcie ryzyka': future_vals * n,\n",
    "'Efekt strategii 2 - sprzedaż kontraktu forward': [6.9 * n] * 7,\n",
    "'Efekt strategii 3 - zakup opcji sprzedaży': option3(future_vals, K, premium)[0],\n",
    "'Wykonanie opcji sprzedaży': option3(future_vals, K, premium)[1]},\n",
    "    index = future_vals)\n",
    "result"
   ]
  }
 ],
 "metadata": {
  "kernelspec": {
   "display_name": "Python 3 (ipykernel)",
   "language": "python",
   "name": "python3"
  },
  "language_info": {
   "codemirror_mode": {
    "name": "ipython",
    "version": 3
   },
   "file_extension": ".py",
   "mimetype": "text/x-python",
   "name": "python",
   "nbconvert_exporter": "python",
   "pygments_lexer": "ipython3",
   "version": "3.10.9"
  }
 },
 "nbformat": 4,
 "nbformat_minor": 5
}
